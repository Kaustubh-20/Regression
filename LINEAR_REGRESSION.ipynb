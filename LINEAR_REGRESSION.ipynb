{
  "cells": [
    {
      "cell_type": "markdown",
      "metadata": {
        "id": "view-in-github",
        "colab_type": "text"
      },
      "source": [
        "<a href=\"https://colab.research.google.com/github/Kaustubh-20/Regression/blob/main/LINEAR_REGRESSION.ipynb\" target=\"_parent\"><img src=\"https://colab.research.google.com/assets/colab-badge.svg\" alt=\"Open In Colab\"/></a>"
      ]
    },
    {
      "cell_type": "code",
      "execution_count": null,
      "metadata": {
        "id": "wnK8iyJXE4K-"
      },
      "outputs": [],
      "source": [
        "from statistics import mean"
      ]
    },
    {
      "cell_type": "code",
      "execution_count": null,
      "metadata": {
        "id": "LV-VnwBMFDFQ"
      },
      "outputs": [],
      "source": [
        "import numpy as np\n",
        "import matplotlib.pyplot as plt\n",
        "from matplotlib import style\n",
        "import random\n",
        "style.use('fivethirtyeight')"
      ]
    },
    {
      "cell_type": "code",
      "execution_count": null,
      "metadata": {
        "id": "icK4tbtfFNkz"
      },
      "outputs": [],
      "source": [
        "# xs = np.array([1,2,3,4,5,6], dtype = np.float64)\n",
        "# ys = np.array([5, 4, 6, 5, 6, 7], dtype = np.float64)"
      ]
    },
    {
      "cell_type": "code",
      "execution_count": null,
      "metadata": {
        "id": "rvBFzs5O0A-S"
      },
      "outputs": [],
      "source": [
        "def create_dataset(hm, variance, step = 2, correlation= False):\n",
        "  val = 1\n",
        "  ys = []\n",
        "  for i in range(hm):\n",
        "    y = val +random.randrange(-variance, variance)\n",
        "    ys.append(y)\n",
        "    if correlation and correlation == 'pos':\n",
        "      val+=step\n",
        "    elif correlation and correlation == 'neg':\n",
        "      val-=step\n",
        "  xs = [i for i in range(len(ys))]\n",
        "  return np.array(xs, dtype=np.float64), np.array(ys, dtype=np.float64)"
      ]
    },
    {
      "cell_type": "code",
      "execution_count": null,
      "metadata": {
        "id": "0_IEG29CF7D1"
      },
      "outputs": [],
      "source": [
        "def best_fit_slope_and_intercept(xs, ys):\n",
        "  m = ((mean(xs)*mean(ys)) - mean(xs*ys)) / ((mean(xs)* mean(xs)) - mean(xs*xs))\n",
        "  b = mean(ys) - m*mean(xs)\n",
        "  return m, b\n",
        "\n"
      ]
    },
    {
      "cell_type": "code",
      "execution_count": null,
      "metadata": {
        "id": "OF2Ngpgn0tm2"
      },
      "outputs": [],
      "source": [
        "def squared_error(ys_orig, ys_line):\n",
        "  return sum((ys_line-ys_orig)**2)"
      ]
    },
    {
      "cell_type": "code",
      "execution_count": null,
      "metadata": {
        "id": "5Y2cxbbN18lk"
      },
      "outputs": [],
      "source": [
        "def coefficient_of_determination(ys_orig,ys_line):\n",
        "  y_mean_line = [mean(ys_orig) for y in ys_orig]\n",
        "  squared_error_regr = squared_error(ys_orig, ys_line)\n",
        "  squared_error_y_mean = squared_error(ys_orig, y_mean_line)\n",
        "  return 1 - (squared_error_regr/squared_error_y_mean)"
      ]
    },
    {
      "cell_type": "code",
      "execution_count": null,
      "metadata": {
        "id": "khKXPeVn2X9v"
      },
      "outputs": [],
      "source": [
        "xs, ys = create_dataset(40, 40 ,2, correlation = 'pos')"
      ]
    },
    {
      "cell_type": "code",
      "execution_count": null,
      "metadata": {
        "colab": {
          "base_uri": "https://localhost:8080/"
        },
        "id": "bk6VQXhO2Svu",
        "outputId": "9fdfdf58-a6d1-4ec5-c6c9-9b5e8b6e9c17"
      },
      "outputs": [
        {
          "name": "stdout",
          "output_type": "stream",
          "text": [
            "1.7229831144465297 15.82682926829267\n"
          ]
        }
      ],
      "source": [
        "m,b = best_fit_slope_and_intercept(xs, ys)\n",
        "print(m, b)"
      ]
    },
    {
      "cell_type": "code",
      "execution_count": null,
      "metadata": {
        "id": "BPiL4Qx5H0oa"
      },
      "outputs": [],
      "source": [
        "regression_line = [(m*x)+b for x in xs]"
      ]
    },
    {
      "cell_type": "code",
      "execution_count": null,
      "metadata": {
        "colab": {
          "base_uri": "https://localhost:8080/"
        },
        "id": "BIak3jX64zsT",
        "outputId": "43cbb64e-038b-4f0f-e011-5f950ce92e83"
      },
      "outputs": [
        {
          "name": "stdout",
          "output_type": "stream",
          "text": [
            "0.4042487963696\n"
          ]
        }
      ],
      "source": [
        "r_squared = coefficient_of_determination(ys, regression_line)\n",
        "print(r_squared)"
      ]
    },
    {
      "cell_type": "code",
      "execution_count": null,
      "metadata": {
        "colab": {
          "base_uri": "https://localhost:8080/"
        },
        "id": "wncp4YWy9wj6",
        "outputId": "523e9671-1512-4f0e-fb38-9696e540ede8"
      },
      "outputs": [
        {
          "name": "stdout",
          "output_type": "stream",
          "text": [
            "23318.759568480302\n"
          ]
        }
      ],
      "source": [
        "print(squared_error(ys, regression_line))"
      ]
    },
    {
      "cell_type": "code",
      "execution_count": null,
      "metadata": {
        "id": "1BPaSLquJqXE"
      },
      "outputs": [],
      "source": [
        "predict_x = 7\n",
        "predict_y = (m*predict_x)+b"
      ]
    },
    {
      "cell_type": "code",
      "execution_count": null,
      "metadata": {
        "colab": {
          "background_save": true,
          "base_uri": "https://localhost:8080/",
          "height": 449
        },
        "id": "w3GDUM45IQ4I",
        "outputId": "aeb4af7d-74de-4a3a-b5c0-06bccd2ed08b"
      },
      "outputs": [
        {
          "data": {
            "image/png": "[encoded data removed]",
            "text/plain": [
              "<Figure size 640x480 with 1 Axes>"
            ]
          },
          "metadata": {},
          "output_type": "display_data"
        }
      ],
      "source": [
        "# plt.scatter(xs,ys)\n",
        "# # plt.scatter(predict_x,predict_y, color = 'g')\n",
        "plt.plot(xs,regression_line)\n",
        "plt.show()"
      ]
    }
  ],
  "metadata": {
    "colab": {
      "provenance": [],
      "include_colab_link": true
    },
    "kernelspec": {
      "display_name": "Python 3",
      "name": "python3"
    },
    "language_info": {
      "name": "python"
    }
  },
  "nbformat": 4,
  "nbformat_minor": 0
}